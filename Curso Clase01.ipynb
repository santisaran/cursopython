{
 "cells": [
  {
   "cell_type": "markdown",
   "metadata": {},
   "source": [
    "Lo que tendría que leer es sobre [python languaje reference](https://docs.python.org/3/reference/index.html)\n",
    "\n",
    "En python is sirve para comprar si un objeto es el MISMO objeto que otro.\n",
    "con \"id\" se puede ver el lugar que ocupa en el esquema de memoria de python.\n",
    "para ver un ojeto de un campo mas arriba, se puede hacer \n",
    "Unicode, encode y decode, convierten a un objeto de bytes, en realidad deberían llamarse serialize y deseralize.\n",
    "\n"
   ]
  },
  {
   "cell_type": "markdown",
   "metadata": {},
   "source": [
    "Con bool se puede resolver si algo es True o false, por ejemplo"
   ]
  },
  {
   "cell_type": "code",
   "execution_count": 1,
   "metadata": {},
   "outputs": [
    {
     "data": {
      "text/plain": [
       "False"
      ]
     },
     "execution_count": 1,
     "metadata": {},
     "output_type": "execute_result"
    }
   ],
   "source": [
    "bool([])"
   ]
  },
  {
   "cell_type": "code",
   "execution_count": 2,
   "metadata": {},
   "outputs": [
    {
     "data": {
      "text/plain": [
       "True"
      ]
     },
     "execution_count": 2,
     "metadata": {},
     "output_type": "execute_result"
    }
   ],
   "source": [
    "bool([1])"
   ]
  },
  {
   "cell_type": "markdown",
   "metadata": {},
   "source": [
    "El while y el for tienen else! yo siempre usaba algún flag para saber si se había terminado el for o el while y resulta que si ponía un else:"
   ]
  },
  {
   "cell_type": "code",
   "execution_count": 5,
   "metadata": {},
   "outputs": [
    {
     "name": "stdout",
     "output_type": "stream",
     "text": [
      "0\n",
      "1\n",
      "2\n"
     ]
    }
   ],
   "source": [
    "a = 0 \n",
    "while a<7:\n",
    "    print(a)\n",
    "    a +=1\n",
    "    if a == 3:\n",
    "        break\n",
    "else:\n",
    "    print(\"No se ejecuta porque ejecuta porque hubo un break\")"
   ]
  },
  {
   "cell_type": "code",
   "execution_count": null,
   "metadata": {},
   "outputs": [],
   "source": []
  }
 ],
 "metadata": {
  "kernelspec": {
   "display_name": "Python 3",
   "language": "python",
   "name": "python3"
  },
  "language_info": {
   "codemirror_mode": {
    "name": "ipython",
    "version": 3
   },
   "file_extension": ".py",
   "mimetype": "text/x-python",
   "name": "python",
   "nbconvert_exporter": "python",
   "pygments_lexer": "ipython3",
   "version": "3.7.1"
  }
 },
 "nbformat": 4,
 "nbformat_minor": 2
}
